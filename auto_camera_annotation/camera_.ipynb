{
 "cells": [
  {
   "cell_type": "code",
   "execution_count": null,
   "metadata": {},
   "outputs": [],
   "source": [
    "import cv2\n",
    "import numpy as np\n",
    "import matplotlib.pyplot as plt\n",
    "\n",
    "def capture_and_annotate():\n",
    "    # Open the HD USB external camera \n",
    "    cap = cv2.VideoCapture(1)  # Change the index (e.g., 0, 1, 2, etc.) based on your system configuration\n",
    "\n",
    "    if not cap.isOpened():\n",
    "        print(\"Error: Could not open camera.\")\n",
    "        return\n",
    "\n",
    "    while True:\n",
    "        ret, frame = cap.read()\n",
    "        if not ret:\n",
    "            print(\"Failed to grab frame\")\n",
    "            break\n",
    "\n",
    "        # Draw lines on the frame\n",
    "        cv2.line(frame, pt1=(220, 25), pt2=(220, 400), color=(0, 0, 255), thickness=2)\n",
    "        cv2.line(frame, pt1=(430, 25), pt2=(430, 400), color=(0, 0, 255), thickness=2)\n",
    "\n",
    "        # Add text annotations\n",
    "        cv2.putText(frame, 'Person_1', (100, 40), cv2.FONT_HERSHEY_SIMPLEX, 0.6, (255, 255, 255), 2)\n",
    "        cv2.putText(frame, 'Person_2', (250, 40), cv2.FONT_HERSHEY_SIMPLEX, 0.6, (255, 255, 255), 2)\n",
    "        cv2.putText(frame, 'Person_3', (440, 40), cv2.FONT_HERSHEY_SIMPLEX, 0.6, (255, 255, 255), 2)\n",
    "\n",
    "        # Show the annotated frame\n",
    "        cv2.imshow('Camera', frame)\n",
    "\n",
    "        key = cv2.waitKey(1)\n",
    "        if key % 256 == 27:  # ESC key to exit\n",
    "            print(\"Escape hit, closing...\")\n",
    "            break\n",
    "        elif key % 256 == 32:  # SPACE key to capture and annotate\n",
    "            print(\"Space hit, capturing and annotating...\")\n",
    "\n",
    "    cap.release()\n",
    "    cv2.destroyAllWindows()\n",
    "\n",
    "if __name__ == \"_main_\":\n",
    "    capture_and_annotate()"
   ]
  }
 ],
 "metadata": {
  "kernelspec": {
   "display_name": "Python 3",
   "language": "python",
   "name": "python3"
  },
  "language_info": {
   "name": "python",
   "version": "3.12.4"
  }
 },
 "nbformat": 4,
 "nbformat_minor": 2
}

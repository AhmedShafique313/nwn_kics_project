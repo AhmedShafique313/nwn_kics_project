{
 "cells": [
  {
   "cell_type": "code",
   "execution_count": 3,
   "metadata": {},
   "outputs": [],
   "source": [
    "import cv2\n",
    "import os\n",
    "\n",
    "img = cv2.imread(r'C:\\Users\\Personal\\Documents\\projects\\KICS Second Project\\New folder\\assets\\logo.png', 0)\n",
    "cv2.imshow('Image', img)\n",
    "cv2.waitKey(0)\n",
    "cv2.destroyAllWindows()"
   ]
  },
  {
   "cell_type": "code",
   "execution_count": 4,
   "metadata": {},
   "outputs": [],
   "source": [
    "img= cv2.resize(img, (500, 500))\n",
    "cv2.imshow('Image', img)\n",
    "cv2.waitKey(0)\n",
    "cv2.destroyAllWindows()"
   ]
  },
  {
   "cell_type": "code",
   "execution_count": 9,
   "metadata": {},
   "outputs": [],
   "source": [
    "img_line = img.copy()\n",
    "pA = (200, 80)\n",
    "pB = (450, 80)\n",
    "cv2.line(img_line, pA, pB, (255, 255, 0), thickness=3)\n",
    "cv2.imshow('Image Line', img_line)\n",
    "cv2.waitKey(0)\n",
    "cv2.destroyAllWindows()"
   ]
  },
  {
   "cell_type": "code",
   "execution_count": 11,
   "metadata": {},
   "outputs": [],
   "source": [
    "img_circle = img.copy()\n",
    "circle_centre = (300, 170)\n",
    "radius = 110\n",
    "cv2.circle(img_circle, circle_centre, radius, (0,0,255), thickness=3, lineType=cv2.LINE_AA)\n",
    "cv2.imshow('Image Circle', img_circle)\n",
    "cv2.waitKey(0)\n",
    "cv2.destroyAllWindows()"
   ]
  },
  {
   "cell_type": "code",
   "execution_count": 12,
   "metadata": {},
   "outputs": [],
   "source": [
    "img_rect = img.copy()\n",
    "# left, up\n",
    "sp = (180, 90)\n",
    "# right, down\n",
    "ep = (400, 230)\n",
    "cv2.rectangle(img_rect, sp, ep, (0, 0, 255), thickness=3, lineType=cv2.LINE_8)\n",
    "cv2.imshow('Image Rectangle', img_rect)\n",
    "cv2.waitKey(0)\n",
    "cv2.destroyAllWindows()"
   ]
  }
 ],
 "metadata": {
  "kernelspec": {
   "display_name": "Python 3",
   "language": "python",
   "name": "python3"
  },
  "language_info": {
   "codemirror_mode": {
    "name": "ipython",
    "version": 3
   },
   "file_extension": ".py",
   "mimetype": "text/x-python",
   "name": "python",
   "nbconvert_exporter": "python",
   "pygments_lexer": "ipython3",
   "version": "3.12.4"
  }
 },
 "nbformat": 4,
 "nbformat_minor": 2
}

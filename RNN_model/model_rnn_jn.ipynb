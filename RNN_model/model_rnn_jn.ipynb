{
 "cells": [
  {
   "cell_type": "code",
   "execution_count": 1,
   "metadata": {},
   "outputs": [],
   "source": [
    "import os\n",
    "import numpy as np\n",
    "import tensorflow as tf\n",
    "from tensorflow import keras\n",
    "from sklearn.preprocessing import LabelEncoder\n",
    "from sklearn.model_selection import train_test_split\n",
    "from sklearn.metrics import accuracy_score\n",
    "import librosa\n",
    "import librosa.display\n",
    "import matplotlib.pyplot as plt"
   ]
  },
  {
   "cell_type": "code",
   "execution_count": 2,
   "metadata": {},
   "outputs": [],
   "source": [
    "train_data_path = r'C:\\Users\\Personal\\Documents\\projects\\KICS Second Project\\RNN_model\\train'\n",
    "test_data_path = r'C:\\Users\\Personal\\Documents\\projects\\KICS Second Project\\RNN_model\\test'"
   ]
  },
  {
   "cell_type": "code",
   "execution_count": 3,
   "metadata": {},
   "outputs": [],
   "source": [
    "n_mels = 40\n",
    "def extract_mel_spectrogram(file_path):\n",
    "    y, sr = librosa.load(file_path)\n",
    "    mel_spectrogram = librosa.feature.melspectrogram(y=y, sr=sr, n_mels=n_mels)\n",
    "    return mel_spectrogram"
   ]
  },
  {
   "cell_type": "code",
   "execution_count": 4,
   "metadata": {},
   "outputs": [],
   "source": [
    "X_train = []\n",
    "y_train = []\n",
    "for file in os.listdir(train_data_path):\n",
    "    if file.endswith('.wav'):\n",
    "        # Assuming your training data files are named with their class label \n",
    "        # Example: 'cat_1.wav', 'dog_2.wav'\n",
    "        label = file.split('_')[0]\n",
    "        file_path = os.path.join(train_data_path, file)\n",
    "        mel_spectrogram = extract_mel_spectrogram(file_path)\n",
    "        X_train.append(mel_spectrogram)\n",
    "        y_train.append(label)"
   ]
  },
  {
   "cell_type": "code",
   "execution_count": 5,
   "metadata": {},
   "outputs": [],
   "source": [
    "X_test = []\n",
    "y_test = []\n",
    "for file in os.listdir(test_data_path):\n",
    "    if file.endswith('.wav'):\n",
    "        # Assuming your testing data files are named with their class label \n",
    "        # Example: 'cat_1.wav', 'dog_2.wav'\n",
    "        label = file.split('_')[0]\n",
    "        file_path = os.path.join(test_data_path, file)\n",
    "        mel_spectrogram = extract_mel_spectrogram(file_path)\n",
    "        X_test.append(mel_spectrogram)\n",
    "        y_test.append(label)"
   ]
  },
  {
   "cell_type": "code",
   "execution_count": 6,
   "metadata": {},
   "outputs": [],
   "source": [
    "X_train = np.array(X_train)\n",
    "y_train = np.array(y_train)\n",
    "X_test = np.array(X_test)\n",
    "y_test = np.array(y_test)"
   ]
  },
  {
   "cell_type": "code",
   "execution_count": 8,
   "metadata": {},
   "outputs": [
    {
     "name": "stdout",
     "output_type": "stream",
     "text": [
      "Warning: y_train is empty.\n"
     ]
    }
   ],
   "source": [
    "if len(y_train) > 0:\n",
    "    le = LabelEncoder()\n",
    "    y_train = le.fit_transform(y_train)\n",
    "    y_train = to_categorical(y_train) \n",
    "else:\n",
    "    # Handle the case when y_train is empty\n",
    "    print(\"Warning: y_train is empty.\")"
   ]
  }
 ],
 "metadata": {
  "kernelspec": {
   "display_name": "Python 3",
   "language": "python",
   "name": "python3"
  },
  "language_info": {
   "codemirror_mode": {
    "name": "ipython",
    "version": 3
   },
   "file_extension": ".py",
   "mimetype": "text/x-python",
   "name": "python",
   "nbconvert_exporter": "python",
   "pygments_lexer": "ipython3",
   "version": "3.11.8"
  }
 },
 "nbformat": 4,
 "nbformat_minor": 2
}
